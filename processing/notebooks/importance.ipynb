{
 "cells": [
  {
   "cell_type": "code",
   "execution_count": 1,
   "metadata": {},
   "outputs": [],
   "source": [
    "import helper"
   ]
  },
  {
   "cell_type": "code",
   "execution_count": 2,
   "metadata": {},
   "outputs": [
    {
     "name": "stdout",
     "output_type": "stream",
     "text": [
      "\\begin{tabular}{lrrrrr}\n",
      "\\toprule\n",
      "       feature &  replication\\_factor &  vertex\\_balance &  destination\\_balance &  source\\_balance &  edge\\_balance \\\\\n",
      "\\midrule\n",
      "   Partitioner &               0.299 &           0.268 &                0.245 &           0.542 &         0.244 \\\\\n",
      "   Mean Degree &               0.274 &           0.065 &                0.059 &           0.058 &         0.036 \\\\\n",
      "   \\#Partitions &               0.256 &           0.271 &                0.293 &           0.177 &         0.472 \\\\\n",
      " Degree Distr. &               0.165 &           0.368 &                0.372 &           0.214 &         0.214 \\\\\n",
      "       Density &               0.007 &           0.028 &                0.031 &           0.009 &         0.034 \\\\\n",
      "\\bottomrule\n",
      "\\end{tabular}\n",
      "\n"
     ]
    }
   ],
   "source": [
    "helper.get_importance(helper.ease_importance)"
   ]
  }
 ],
 "metadata": {
  "interpreter": {
   "hash": "caf1c2fcf97217de91eafa76b907d50f9ea378f5ffbee7f571142d119bb6a771"
  },
  "kernelspec": {
   "display_name": "Python 3.8.5 ('base': conda)",
   "language": "python",
   "name": "python3"
  },
  "language_info": {
   "codemirror_mode": {
    "name": "ipython",
    "version": 3
   },
   "file_extension": ".py",
   "mimetype": "text/x-python",
   "name": "python",
   "nbconvert_exporter": "python",
   "pygments_lexer": "ipython3",
   "version": "3.8.5"
  },
  "orig_nbformat": 4
 },
 "nbformat": 4,
 "nbformat_minor": 2
}
